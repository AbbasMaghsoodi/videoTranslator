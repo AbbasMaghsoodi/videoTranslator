{
  "nbformat": 4,
  "nbformat_minor": 0,
  "metadata": {
    "colab": {
      "provenance": []
    },
    "kernelspec": {
      "name": "python3",
      "display_name": "Python 3"
    },
    "language_info": {
      "name": "python"
    }
  },
  "cells": [
    {
      "cell_type": "code",
      "execution_count": 16,
      "metadata": {
        "colab": {
          "base_uri": "https://localhost:8080/",
          "height": 422
        },
        "id": "kuCFAbsJjf5y",
        "outputId": "1654d6db-c355-49ee-ce09-3f8eb84c6d5f"
      },
      "outputs": [
        {
          "name": "stdout",
          "output_type": "stream",
          "text": [
            "Enter the path to the video file: /content/drive/MyDrive/input/VID_20231022_170736.mp4\n",
            "Enter the target language: english\n"
          ]
        },
        {
          "output_type": "error",
          "ename": "TypeError",
          "evalue": "ignored",
          "traceback": [
            "\u001b[0;31m---------------------------------------------------------------------------\u001b[0m",
            "\u001b[0;31mTypeError\u001b[0m                                 Traceback (most recent call last)",
            "\u001b[0;32m<ipython-input-16-30d41d31df8b>\u001b[0m in \u001b[0;36m<cell line: 51>\u001b[0;34m()\u001b[0m\n\u001b[1;32m     57\u001b[0m \u001b[0;34m\u001b[0m\u001b[0m\n\u001b[1;32m     58\u001b[0m   \u001b[0;31m# Translate the video and generate a lip-synced audio file of the translation.\u001b[0m\u001b[0;34m\u001b[0m\u001b[0;34m\u001b[0m\u001b[0m\n\u001b[0;32m---> 59\u001b[0;31m   \u001b[0mtranslate_video\u001b[0m\u001b[0;34m(\u001b[0m\u001b[0mvideo_file\u001b[0m\u001b[0;34m,\u001b[0m \u001b[0mtarget_language\u001b[0m\u001b[0;34m,\u001b[0m \u001b[0;34m\"output.wav\"\u001b[0m\u001b[0;34m)\u001b[0m\u001b[0;34m\u001b[0m\u001b[0;34m\u001b[0m\u001b[0m\n\u001b[0m\u001b[1;32m     60\u001b[0m \u001b[0;34m\u001b[0m\u001b[0m\n\u001b[1;32m     61\u001b[0m   \u001b[0;31m# Replace the audio in the video with the translated audio.\u001b[0m\u001b[0;34m\u001b[0m\u001b[0;34m\u001b[0m\u001b[0m\n",
            "\u001b[0;32m<ipython-input-16-30d41d31df8b>\u001b[0m in \u001b[0;36mtranslate_video\u001b[0;34m(video_file, target_language, output_file)\u001b[0m\n\u001b[1;32m     17\u001b[0m \u001b[0;34m\u001b[0m\u001b[0m\n\u001b[1;32m     18\u001b[0m   \u001b[0;31m# Extract the audio from the video file.\u001b[0m\u001b[0;34m\u001b[0m\u001b[0;34m\u001b[0m\u001b[0m\n\u001b[0;32m---> 19\u001b[0;31m   \u001b[0maudio_file\u001b[0m \u001b[0;34m=\u001b[0m \u001b[0mffmpeg\u001b[0m\u001b[0;34m.\u001b[0m\u001b[0minput\u001b[0m\u001b[0;34m(\u001b[0m\u001b[0mvideo_file\u001b[0m\u001b[0;34m)\u001b[0m\u001b[0;34m.\u001b[0m\u001b[0moutput\u001b[0m\u001b[0;34m(\u001b[0m\u001b[0;34m\"audio.wav\"\u001b[0m\u001b[0;34m,\u001b[0m \u001b[0mformat\u001b[0m\u001b[0;34m=\u001b[0m\u001b[0;34m\"wav\"\u001b[0m\u001b[0;34m)\u001b[0m\u001b[0;34m.\u001b[0m\u001b[0mrun\u001b[0m\u001b[0;34m(\u001b[0m\u001b[0mcapture_output\u001b[0m\u001b[0;34m=\u001b[0m\u001b[0;32mTrue\u001b[0m\u001b[0;34m)\u001b[0m\u001b[0;34m[\u001b[0m\u001b[0;36m1\u001b[0m\u001b[0;34m]\u001b[0m\u001b[0;34m\u001b[0m\u001b[0;34m\u001b[0m\u001b[0m\n\u001b[0m\u001b[1;32m     20\u001b[0m \u001b[0;34m\u001b[0m\u001b[0m\n\u001b[1;32m     21\u001b[0m   \u001b[0;31m# Translate the audio file to the target language.\u001b[0m\u001b[0;34m\u001b[0m\u001b[0;34m\u001b[0m\u001b[0m\n",
            "\u001b[0;31mTypeError\u001b[0m: run() got an unexpected keyword argument 'capture_output'"
          ]
        }
      ],
      "source": [
        "import subprocess\n",
        "import ffmpeg\n",
        "import moviepy.editor as mpe\n",
        "import rubberband\n",
        "import googletrans\n",
        "import gtts\n",
        "import pyttsx3\n",
        "import mediapipe\n",
        "\n",
        "def translate_video(video_file, target_language, output_file):\n",
        "  \"\"\"Translates the voice in a video to a target language and generates a lip-synced audio file of the translation.\n",
        "\n",
        "  Args:\n",
        "    video_file: The path to the input video file.\n",
        "    target_language: The target language code.\n",
        "    output_file: The path to the output audio file.\n",
        "  \"\"\"\n",
        "\n",
        "  # Extract the audio from the video file.\n",
        "  audio_file = ffmpeg.input(video_file).output(\"audio.wav\", format=\"wav\").run(capture_output=True)[1]\n",
        "\n",
        "  # Translate the audio file to the target language.\n",
        "  translator = googletrans.Translator()\n",
        "  translated_text = translator.translate(audio_file.decode(\"utf-8\"), dest=target_language).text\n",
        "\n",
        "\n",
        "  # Generate a lip-synced audio file of the translation.\n",
        "  engine = pyttsx3.Engine()\n",
        "  engine.setProperty(\"rate\", 150)\n",
        "  tts = gtts.gTTS(text=translated_text, lang=target_language, voice=engine.getProperty(\"voice\"))\n",
        "  tts.save(output_file)\n",
        "\n",
        "  # Warp the translated audio to match the length and tone of the original audio.\n",
        "  rubberband = rubberband.RubberBand()\n",
        "  rubberband.set_rate(0.5)\n",
        "  warped_audio = rubberband.process(output_file)\n",
        "\n",
        "  # Write the warped audio to a new file.\n",
        "  with open(\"warped_audio.wav\", \"wb\") as f:\n",
        "    f.write(warped_audio)\n",
        "\n",
        "def replace_audio_in_video(video_file, audio_file, output_file):\n",
        "  \"\"\"Replaces the audio in a video with a new audio file.\n",
        "\n",
        "  Args:\n",
        "    video_file: The path to the input video file.\n",
        "    audio_file: The path to the input audio file.\n",
        "    output_file: The path to the output video file.\n",
        "  \"\"\"\n",
        "\n",
        "  ffmpeg.input(video_file).input(audio_file, ss=0.5).output(output_file, pix_fmt=\"yuv420p\", acodec=\"aac\").run()\n",
        "\n",
        "if __name__ == \"__main__\":\n",
        "  # Get the video file from the user.\n",
        "  video_file = input(\"Enter the path to the video file: \")\n",
        "\n",
        "  # Get the target language from the user.\n",
        "  target_language = input(\"Enter the target language: \")\n",
        "\n",
        "  # Translate the video and generate a lip-synced audio file of the translation.\n",
        "  translate_video(video_file, target_language, \"output.wav\")\n",
        "\n",
        "  # Replace the audio in the video with the translated audio.\n",
        "  replace_audio_in_video(video_file, \"warped_audio.wav\", \"output_video.mp4\")\n",
        "\n",
        "  # Print a message to the user.\n",
        "  print(\"The output video has been generated and saved as `output_video.mp4`.\")\n",
        "\n"
      ]
    },
    {
      "cell_type": "code",
      "source": [
        "import mediapipe as mp\n",
        "import rubberband\n",
        "import moviepy.editor as mpe\n",
        "import googletrans\n",
        "import gtts\n",
        "import pyttsx3\n",
        "\n",
        "def translate_video(video_file, target_language, output_file):\n",
        "  \"\"\"Translates the voice in a video to a target language and generates a lip-synced audio file of the translation.\n",
        "\n",
        "  Args:\n",
        "    video_file: The path to the input video file.\n",
        "    target_language: The target language code.\n",
        "    output_file: The path to the output audio file.\n",
        "  \"\"\"\n",
        "\n",
        "  # Extract the audio from the video file.\n",
        "  video = mpe.VideoFileClip(video_file)\n",
        "  audio = video.audio\n",
        "\n",
        "  # Translate the audio file to the target language.\n",
        "  translator = googletrans.Translator()\n",
        "  translated_text = translator.translate(audio.read(), dest=target_language).text\n",
        "\n",
        "  # Generate a lip-synced audio file of the translation.\n",
        "  engine = pyttsx3.Engine()\n",
        "  engine.setProperty(\"rate\", 150)\n",
        "  tts = gTTS(text=translated_text, lang=target_language, voice=engine.getProperty(\"voice\"))\n",
        "  tts.save(\"tmp.wav\")\n",
        "\n",
        "  # Create a temporary audio file to save the lip-synced audio to.\n",
        "  tmp_audio_clip = mpe.AudioFileClip(\"tmp.wav\")\n",
        "\n",
        "  # Extract the pitch of the original voice in the video.\n",
        "  with mp.solutions.holistic.Holistic() as holistic:\n",
        "    for results in holistic.process(video.read_frame()):\n",
        "      pitch = results.face_landmarks.landmark[mp.solutions.holistic.HolisticLandmark.LEFT_EAR].z * 440\n",
        "\n",
        "  # Shift the pitch of the translated audio to match the pitch of the original audio.\n",
        "  shifted_audio_clip = rubberband.RubberBand()\n",
        "  shifted_audio_clip.set_rate(original_pitch / target_pitch)\n",
        "  shifted_audio_clip = shifted_audio_clip.process(tmp_audio_clip.read())\n",
        "\n",
        "  # Replace the audio in the video with the cloned audio.\n",
        "  video.audio = mpe.AudioSegment(shifted_audio_clip)\n",
        "\n",
        "  # Write the output video file.\n",
        "  video.write_videofile(output_file, audiocodec=\"aac\")\n",
        "\n",
        "  # Delete the temporary audio file.\n",
        "  tmp_audio_clip.close()\n",
        "  os.remove(\"tmp.wav\")\n",
        "\n",
        "\n",
        "if __name__ == \"__main__\":\n",
        "  # Get the video file from the user.\n",
        "  video_file = input(\"Enter the path to the video file: \")\n",
        "\n",
        "  # Get the target language from the user.\n",
        "  target_language = input(\"Enter the target language: \")\n",
        "\n",
        "  # Translate the video and generate a lip-synced audio file of the translation.\n",
        "  translate_video(video_file, target_language, \"output.mp4\")\n",
        "\n",
        "  # Print a message to the user.\n",
        "  print(\"The output video has been generated and saved as `output.mp4`.\")\n",
        "\n"
      ],
      "metadata": {
        "colab": {
          "base_uri": "https://localhost:8080/",
          "height": 422
        },
        "id": "uFNomii8vLSc",
        "outputId": "92fe293b-2371-4968-d387-3ede7a76c219"
      },
      "execution_count": 15,
      "outputs": [
        {
          "name": "stdout",
          "output_type": "stream",
          "text": [
            "Enter the path to the video file: /content/drive/MyDrive/input/VID_20231022_170736.mp4\n",
            "Enter the target language: english\n"
          ]
        },
        {
          "output_type": "error",
          "ename": "AttributeError",
          "evalue": "ignored",
          "traceback": [
            "\u001b[0;31m---------------------------------------------------------------------------\u001b[0m",
            "\u001b[0;31mAttributeError\u001b[0m                            Traceback (most recent call last)",
            "\u001b[0;32m<ipython-input-15-47049a3448e3>\u001b[0m in \u001b[0;36m<cell line: 55>\u001b[0;34m()\u001b[0m\n\u001b[1;32m     61\u001b[0m \u001b[0;34m\u001b[0m\u001b[0m\n\u001b[1;32m     62\u001b[0m   \u001b[0;31m# Translate the video and generate a lip-synced audio file of the translation.\u001b[0m\u001b[0;34m\u001b[0m\u001b[0;34m\u001b[0m\u001b[0m\n\u001b[0;32m---> 63\u001b[0;31m   \u001b[0mtranslate_video\u001b[0m\u001b[0;34m(\u001b[0m\u001b[0mvideo_file\u001b[0m\u001b[0;34m,\u001b[0m \u001b[0mtarget_language\u001b[0m\u001b[0;34m,\u001b[0m \u001b[0;34m\"output.mp4\"\u001b[0m\u001b[0;34m)\u001b[0m\u001b[0;34m\u001b[0m\u001b[0;34m\u001b[0m\u001b[0m\n\u001b[0m\u001b[1;32m     64\u001b[0m \u001b[0;34m\u001b[0m\u001b[0m\n\u001b[1;32m     65\u001b[0m   \u001b[0;31m# Print a message to the user.\u001b[0m\u001b[0;34m\u001b[0m\u001b[0;34m\u001b[0m\u001b[0m\n",
            "\u001b[0;32m<ipython-input-15-47049a3448e3>\u001b[0m in \u001b[0;36mtranslate_video\u001b[0;34m(video_file, target_language, output_file)\u001b[0m\n\u001b[1;32m     21\u001b[0m   \u001b[0;31m# Translate the audio file to the target language.\u001b[0m\u001b[0;34m\u001b[0m\u001b[0;34m\u001b[0m\u001b[0m\n\u001b[1;32m     22\u001b[0m   \u001b[0mtranslator\u001b[0m \u001b[0;34m=\u001b[0m \u001b[0mgoogletrans\u001b[0m\u001b[0;34m.\u001b[0m\u001b[0mTranslator\u001b[0m\u001b[0;34m(\u001b[0m\u001b[0;34m)\u001b[0m\u001b[0;34m\u001b[0m\u001b[0;34m\u001b[0m\u001b[0m\n\u001b[0;32m---> 23\u001b[0;31m   \u001b[0mtranslated_text\u001b[0m \u001b[0;34m=\u001b[0m \u001b[0mtranslator\u001b[0m\u001b[0;34m.\u001b[0m\u001b[0mtranslate\u001b[0m\u001b[0;34m(\u001b[0m\u001b[0maudio\u001b[0m\u001b[0;34m.\u001b[0m\u001b[0mread\u001b[0m\u001b[0;34m(\u001b[0m\u001b[0;34m)\u001b[0m\u001b[0;34m,\u001b[0m \u001b[0mdest\u001b[0m\u001b[0;34m=\u001b[0m\u001b[0mtarget_language\u001b[0m\u001b[0;34m)\u001b[0m\u001b[0;34m.\u001b[0m\u001b[0mtext\u001b[0m\u001b[0;34m\u001b[0m\u001b[0;34m\u001b[0m\u001b[0m\n\u001b[0m\u001b[1;32m     24\u001b[0m \u001b[0;34m\u001b[0m\u001b[0m\n\u001b[1;32m     25\u001b[0m   \u001b[0;31m# Generate a lip-synced audio file of the translation.\u001b[0m\u001b[0;34m\u001b[0m\u001b[0;34m\u001b[0m\u001b[0m\n",
            "\u001b[0;31mAttributeError\u001b[0m: 'AudioFileClip' object has no attribute 'read'"
          ]
        }
      ]
    },
    {
      "cell_type": "code",
      "source": [
        "import mediapipe as mp\n",
        "import rubberband\n",
        "import moviepy.editor as mpe\n",
        "import googletrans\n",
        "import gtts\n",
        "import pyttsx3\n",
        "\n",
        "def transcribe_audio(audio_file_path, language_code=\"en-US\"):\n",
        "  \"\"\"Transcribes an audio file to text.\n",
        "\n",
        "  Args:\n",
        "    audio_file_path: The path to the audio file.\n",
        "    language_code: The language code of the audio file.\n",
        "\n",
        "  Returns:\n",
        "    A string containing the text transcription of the audio file.\n",
        "  \"\"\"\n",
        "\n",
        "  client = speech_v1.SpeechClient()\n",
        "\n",
        "  with io.open(audio_file_path, \"rb\") as audio_file:\n",
        "    content = audio_file.read()\n",
        "\n",
        "  audio = speech_v1.types.Audio(content=content)\n",
        "  config = speech_v1.types.RecognitionConfig(\n",
        "      language_code=language_code,\n",
        "      encoding=\"LINEAR16\",\n",
        "      sample_rate_hertz=16000\n",
        "  )\n",
        "\n",
        "  response = client.recognize(config=config, audio=audio)\n",
        "\n",
        "  if response.results:\n",
        "    return response.results[0].alternatives[0].transcript\n",
        "  else:\n",
        "    return None\n",
        "\n",
        "\n",
        "def translate_video(video_file, target_language, output_file):\n",
        "  \"\"\"Translates the voice in a video to a target language and generates a lip-synced audio file of the translation.\n",
        "\n",
        "  Args:\n",
        "    video_file: The path to the input video file.\n",
        "    target_language: The target language code.\n",
        "    output_file: The path to the output audio file.\n",
        "  \"\"\"\n",
        "\n",
        "  # Extract the audio from the video file.\n",
        "  video = mpe.VideoFileClip(video_file)\n",
        "  audio = video.audio\n",
        "\n",
        "  # Transcribe the audio to text.\n",
        "  transcribed_text = transcribe_audio(audio.read())\n",
        "\n",
        "  # Translate the text to the target language.\n",
        "  translator = googletrans.Translator()\n",
        "  translated_text = translator.translate(transcribed_text, dest=target_language).text\n",
        "\n",
        "  # Generate a lip-synced audio file of the translation.\n",
        "  engine = pyttsx3.Engine()\n",
        "  engine.setProperty(\"rate\", 150)\n",
        "  tts = gTTS(text=translated_text, lang=target_language, voice=engine.getProperty(\"voice\"))\n",
        "  tts.save(\"tmp.wav\")\n",
        "\n",
        "  # Create a temporary audio file to save the lip-synced audio to.\n",
        "  tmp_audio_clip = mpe.AudioFileClip(\"tmp.wav\")\n",
        "\n",
        "  # Extract the pitch of the original voice in the video.\n",
        "  with mp.solutions.holistic.Holistic() as holistic:\n",
        "    for results in holistic.process(video.read_frame()):\n",
        "      pitch = results.face_landmarks.landmark[mp.solutions.holistic.HolisticLandmark.LEFT_EAR].z * 440\n",
        "\n",
        "  # Shift the pitch of the translated audio to match the pitch of the original audio.\n",
        "  shifted_audio_clip = rubberband.RubberBand()\n",
        "  shifted_audio_clip.set_rate(original_pitch / target_pitch)\n",
        "  shifted_audio_clip = shifted_audio_clip.process(tmp_audio_clip.read())\n",
        "\n",
        "  # Replace the audio in the video with the cloned audio.\n",
        "  video.audio = mpe.AudioSegment(shifted_audio_clip)\n",
        "\n",
        "  # Write the output video file.\n",
        "  video.write_videofile(output_file, audiocodec=\"aac\")\n",
        "\n",
        "  # Delete the temporary audio file.\n",
        "  tmp_audio_clip.close()\n",
        "  os.remove(\"tmp.wav\")\n",
        "\n",
        "\n",
        "if __name__ == \"__main__\":\n",
        "  # Get the video file from the user.\n",
        "  video_file = input(\"Enter the path to the video file: \")\n",
        "\n",
        "  # Get the target language from the user.\n",
        "  target_language = input(\"Enter the target language: \")\n",
        "\n",
        "  # Translate the video and generate a lip-synced audio file of the translation.\n",
        "  translate_video(video_file, target_language, \"output.mp4\")\n",
        "\n",
        "  # Print a message to the user.\n",
        "  print(\"The output video has been generated and saved as `output.mp4`.\")\n",
        "\n",
        "\n"
      ],
      "metadata": {
        "id": "AWShAab8PVFP",
        "outputId": "9a7d0d30-7366-4e59-e8cb-791c11d795b9",
        "colab": {
          "base_uri": "https://localhost:8080/",
          "height": 422
        }
      },
      "execution_count": 17,
      "outputs": [
        {
          "name": "stdout",
          "output_type": "stream",
          "text": [
            "Enter the path to the video file: /content/drive/MyDrive/input/VID_20231022_170736.mp4\n",
            "Enter the target language: english\n"
          ]
        },
        {
          "output_type": "error",
          "ename": "AttributeError",
          "evalue": "ignored",
          "traceback": [
            "\u001b[0;31m---------------------------------------------------------------------------\u001b[0m",
            "\u001b[0;31mAttributeError\u001b[0m                            Traceback (most recent call last)",
            "\u001b[0;32m<ipython-input-17-e60d57ff7806>\u001b[0m in \u001b[0;36m<cell line: 89>\u001b[0;34m()\u001b[0m\n\u001b[1;32m     95\u001b[0m \u001b[0;34m\u001b[0m\u001b[0m\n\u001b[1;32m     96\u001b[0m   \u001b[0;31m# Translate the video and generate a lip-synced audio file of the translation.\u001b[0m\u001b[0;34m\u001b[0m\u001b[0;34m\u001b[0m\u001b[0m\n\u001b[0;32m---> 97\u001b[0;31m   \u001b[0mtranslate_video\u001b[0m\u001b[0;34m(\u001b[0m\u001b[0mvideo_file\u001b[0m\u001b[0;34m,\u001b[0m \u001b[0mtarget_language\u001b[0m\u001b[0;34m,\u001b[0m \u001b[0;34m\"output.mp4\"\u001b[0m\u001b[0;34m)\u001b[0m\u001b[0;34m\u001b[0m\u001b[0;34m\u001b[0m\u001b[0m\n\u001b[0m\u001b[1;32m     98\u001b[0m \u001b[0;34m\u001b[0m\u001b[0m\n\u001b[1;32m     99\u001b[0m   \u001b[0;31m# Print a message to the user.\u001b[0m\u001b[0;34m\u001b[0m\u001b[0;34m\u001b[0m\u001b[0m\n",
            "\u001b[0;32m<ipython-input-17-e60d57ff7806>\u001b[0m in \u001b[0;36mtranslate_video\u001b[0;34m(video_file, target_language, output_file)\u001b[0m\n\u001b[1;32m     51\u001b[0m \u001b[0;34m\u001b[0m\u001b[0m\n\u001b[1;32m     52\u001b[0m   \u001b[0;31m# Transcribe the audio to text.\u001b[0m\u001b[0;34m\u001b[0m\u001b[0;34m\u001b[0m\u001b[0m\n\u001b[0;32m---> 53\u001b[0;31m   \u001b[0mtranscribed_text\u001b[0m \u001b[0;34m=\u001b[0m \u001b[0mtranscribe_audio\u001b[0m\u001b[0;34m(\u001b[0m\u001b[0maudio\u001b[0m\u001b[0;34m.\u001b[0m\u001b[0mread\u001b[0m\u001b[0;34m(\u001b[0m\u001b[0;34m)\u001b[0m\u001b[0;34m)\u001b[0m\u001b[0;34m\u001b[0m\u001b[0;34m\u001b[0m\u001b[0m\n\u001b[0m\u001b[1;32m     54\u001b[0m \u001b[0;34m\u001b[0m\u001b[0m\n\u001b[1;32m     55\u001b[0m   \u001b[0;31m# Translate the text to the target language.\u001b[0m\u001b[0;34m\u001b[0m\u001b[0;34m\u001b[0m\u001b[0m\n",
            "\u001b[0;31mAttributeError\u001b[0m: 'AudioFileClip' object has no attribute 'read'"
          ]
        }
      ]
    },
    {
      "cell_type": "code",
      "source": [
        "pip install moviepy --upgrade"
      ],
      "metadata": {
        "colab": {
          "base_uri": "https://localhost:8080/"
        },
        "id": "9UXWe0CYIo0w",
        "outputId": "e1281ce2-90d5-4fcf-d1df-0fa42c86c6a0"
      },
      "execution_count": 13,
      "outputs": [
        {
          "output_type": "stream",
          "name": "stdout",
          "text": [
            "Requirement already satisfied: moviepy in /usr/local/lib/python3.10/dist-packages (1.0.3)\n",
            "Requirement already satisfied: decorator<5.0,>=4.0.2 in /usr/local/lib/python3.10/dist-packages (from moviepy) (4.4.2)\n",
            "Requirement already satisfied: tqdm<5.0,>=4.11.2 in /usr/local/lib/python3.10/dist-packages (from moviepy) (4.66.1)\n",
            "Requirement already satisfied: requests<3.0,>=2.8.1 in /usr/local/lib/python3.10/dist-packages (from moviepy) (2.31.0)\n",
            "Requirement already satisfied: proglog<=1.0.0 in /usr/local/lib/python3.10/dist-packages (from moviepy) (0.1.10)\n",
            "Requirement already satisfied: numpy>=1.17.3 in /usr/local/lib/python3.10/dist-packages (from moviepy) (1.23.5)\n",
            "Requirement already satisfied: imageio<3.0,>=2.5 in /usr/local/lib/python3.10/dist-packages (from moviepy) (2.31.6)\n",
            "Requirement already satisfied: imageio-ffmpeg>=0.2.0 in /usr/local/lib/python3.10/dist-packages (from moviepy) (0.4.9)\n",
            "Requirement already satisfied: pillow<10.1.0,>=8.3.2 in /usr/local/lib/python3.10/dist-packages (from imageio<3.0,>=2.5->moviepy) (9.4.0)\n",
            "Requirement already satisfied: setuptools in /usr/local/lib/python3.10/dist-packages (from imageio-ffmpeg>=0.2.0->moviepy) (67.7.2)\n",
            "Requirement already satisfied: charset-normalizer<4,>=2 in /usr/local/lib/python3.10/dist-packages (from requests<3.0,>=2.8.1->moviepy) (3.3.1)\n",
            "Requirement already satisfied: idna<4,>=2.5 in /usr/local/lib/python3.10/dist-packages (from requests<3.0,>=2.8.1->moviepy) (2.10)\n",
            "Requirement already satisfied: urllib3<3,>=1.21.1 in /usr/local/lib/python3.10/dist-packages (from requests<3.0,>=2.8.1->moviepy) (2.0.7)\n",
            "Requirement already satisfied: certifi>=2017.4.17 in /usr/local/lib/python3.10/dist-packages (from requests<3.0,>=2.8.1->moviepy) (2023.7.22)\n"
          ]
        }
      ]
    },
    {
      "cell_type": "code",
      "source": [
        "import mediapipe as mp\n",
        "import rubberband\n",
        "import moviepy.editor as mpe\n",
        "import googletrans\n",
        "import gTTS\n",
        "import pyttsx3\n",
        "\n",
        "def translate_video(video_file, target_language, output_file):\n",
        "  \"\"\"Translates the voice in a video to a target language and generates a lip-synced audio file of the translation.\n",
        "\n",
        "  Args:\n",
        "    video_file: The path to the input video file.\n",
        "    target_language: The target language code.\n",
        "    output_file: The path to the output audio file.\n",
        "  \"\"\"\n",
        "\n",
        "  # Extract the audio from the video file.\n",
        "  video = mpe.VideoFileClip(video_file)\n",
        "  audio = video.audio\n",
        "\n",
        "  # Translate the audio file to the target language.\n",
        "  translator = googletrans.Translator()\n",
        "  translated_text = translator.translate(audio.data, dest=target_language).text\n",
        "\n",
        "  # Generate a lip-synced audio file of the translation.\n",
        "  engine = pyttsx3.Engine()\n",
        "  engine.setProperty(\"rate\", 150)\n",
        "  tts = gTTS(text=translated_text, lang=target_language, voice=engine.getProperty(\"voice\"))\n",
        "  tts.save(\"tmp.wav\")\n",
        "\n",
        "  # Create a temporary audio file to save the lip-synced audio to.\n",
        "  tmp_audio_clip = mpe.AudioFileClip(\"tmp.wav\")\n",
        "\n",
        "  # Extract the pitch of the original voice in the video.\n",
        "  with mp.solutions.holistic.Holistic() as holistic:\n",
        "    for results in holistic.process(video.read_frame()):\n",
        "      pitch = results.face_landmarks.landmark[mp.solutions.holistic.HolisticLandmark.LEFT_EAR].z * 440\n",
        "\n",
        "  # Shift the pitch of the translated audio to match the pitch of the original audio.\n",
        "  shifted_audio_clip = rubberband.RubberBand()\n",
        "  shifted_audio_clip.set_rate(original_pitch / target_pitch)\n",
        "  shifted_audio_clip = shifted_audio_clip.process(\"tmp.wav\")\n",
        "\n",
        "  # Replace the audio in the video with the cloned audio.\n",
        "  video.audio = shifted_audio_clip\n",
        "\n",
        "  # Write the output video file.\n",
        "  video.write_videofile(output_file, audiocodec=\"aac\")\n",
        "\n",
        "  # Delete the temporary audio file.\n",
        "  tmp_audio_clip.close()\n",
        "  os.remove(\"tmp.wav\")\n",
        "\n",
        "\n",
        "if __name__ == \"__main__\":\n",
        "  # Get the video file from the user.\n",
        "  video_file = input(\"Enter the path to the video file: \")\n",
        "\n",
        "  # Get the target language from the user.\n",
        "  target_language = input(\"Enter the target language: \")\n",
        "\n",
        "  # Translate the video and generate a lip-synced audio file of the translation.\n",
        "  translate_video(video_file, target_language, \"output.mp4\")\n",
        "\n",
        "  # Print a message to the user.\n",
        "  print(\"The output video has been generated and saved as `output.mp4`.\")\n",
        "\n"
      ],
      "metadata": {
        "colab": {
          "base_uri": "https://localhost:8080/",
          "height": 403
        },
        "id": "zkX9XMQkEpMb",
        "outputId": "81abef60-91ca-4b30-f208-faedcd807182"
      },
      "execution_count": 1,
      "outputs": [
        {
          "output_type": "error",
          "ename": "ModuleNotFoundError",
          "evalue": "ignored",
          "traceback": [
            "\u001b[0;31m---------------------------------------------------------------------------\u001b[0m",
            "\u001b[0;31mModuleNotFoundError\u001b[0m                       Traceback (most recent call last)",
            "\u001b[0;32m<ipython-input-1-e3acca02eab5>\u001b[0m in \u001b[0;36m<cell line: 1>\u001b[0;34m()\u001b[0m\n\u001b[0;32m----> 1\u001b[0;31m \u001b[0;32mimport\u001b[0m \u001b[0mmediapipe\u001b[0m \u001b[0;32mas\u001b[0m \u001b[0mmp\u001b[0m\u001b[0;34m\u001b[0m\u001b[0;34m\u001b[0m\u001b[0m\n\u001b[0m\u001b[1;32m      2\u001b[0m \u001b[0;32mimport\u001b[0m \u001b[0mrubberband\u001b[0m\u001b[0;34m\u001b[0m\u001b[0;34m\u001b[0m\u001b[0m\n\u001b[1;32m      3\u001b[0m \u001b[0;32mimport\u001b[0m \u001b[0mmoviepy\u001b[0m\u001b[0;34m.\u001b[0m\u001b[0meditor\u001b[0m \u001b[0;32mas\u001b[0m \u001b[0mmpe\u001b[0m\u001b[0;34m\u001b[0m\u001b[0;34m\u001b[0m\u001b[0m\n\u001b[1;32m      4\u001b[0m \u001b[0;32mimport\u001b[0m \u001b[0mgoogletrans\u001b[0m\u001b[0;34m\u001b[0m\u001b[0;34m\u001b[0m\u001b[0m\n\u001b[1;32m      5\u001b[0m \u001b[0;32mimport\u001b[0m \u001b[0mgTTS\u001b[0m\u001b[0;34m\u001b[0m\u001b[0;34m\u001b[0m\u001b[0m\n",
            "\u001b[0;31mModuleNotFoundError\u001b[0m: No module named 'mediapipe'",
            "",
            "\u001b[0;31m---------------------------------------------------------------------------\u001b[0;32m\nNOTE: If your import is failing due to a missing package, you can\nmanually install dependencies using either !pip or !apt.\n\nTo view examples of installing some common dependencies, click the\n\"Open Examples\" button below.\n\u001b[0;31m---------------------------------------------------------------------------\u001b[0m\n"
          ],
          "errorDetails": {
            "actions": [
              {
                "action": "open_url",
                "actionText": "Open Examples",
                "url": "/notebooks/snippets/importing_libraries.ipynb"
              }
            ]
          }
        }
      ]
    },
    {
      "cell_type": "code",
      "source": [
        "pip install mediapipe"
      ],
      "metadata": {
        "colab": {
          "base_uri": "https://localhost:8080/"
        },
        "id": "FNUiseMIw3qr",
        "outputId": "5325a7c4-07c4-4673-87d0-3975b9449ab4"
      },
      "execution_count": 2,
      "outputs": [
        {
          "output_type": "stream",
          "name": "stdout",
          "text": [
            "Collecting mediapipe\n",
            "  Downloading mediapipe-0.10.7-cp310-cp310-manylinux_2_17_x86_64.manylinux2014_x86_64.whl (33.6 MB)\n",
            "\u001b[2K     \u001b[90m━━━━━━━━━━━━━━━━━━━━━━━━━━━━━━━━━━━━━━━━\u001b[0m \u001b[32m33.6/33.6 MB\u001b[0m \u001b[31m43.0 MB/s\u001b[0m eta \u001b[36m0:00:00\u001b[0m\n",
            "\u001b[?25hRequirement already satisfied: absl-py in /usr/local/lib/python3.10/dist-packages (from mediapipe) (1.4.0)\n",
            "Requirement already satisfied: attrs>=19.1.0 in /usr/local/lib/python3.10/dist-packages (from mediapipe) (23.1.0)\n",
            "Requirement already satisfied: flatbuffers>=2.0 in /usr/local/lib/python3.10/dist-packages (from mediapipe) (23.5.26)\n",
            "Requirement already satisfied: matplotlib in /usr/local/lib/python3.10/dist-packages (from mediapipe) (3.7.1)\n",
            "Requirement already satisfied: numpy in /usr/local/lib/python3.10/dist-packages (from mediapipe) (1.23.5)\n",
            "Requirement already satisfied: opencv-contrib-python in /usr/local/lib/python3.10/dist-packages (from mediapipe) (4.8.0.76)\n",
            "Requirement already satisfied: protobuf<4,>=3.11 in /usr/local/lib/python3.10/dist-packages (from mediapipe) (3.20.3)\n",
            "Collecting sounddevice>=0.4.4 (from mediapipe)\n",
            "  Downloading sounddevice-0.4.6-py3-none-any.whl (31 kB)\n",
            "Requirement already satisfied: CFFI>=1.0 in /usr/local/lib/python3.10/dist-packages (from sounddevice>=0.4.4->mediapipe) (1.16.0)\n",
            "Requirement already satisfied: contourpy>=1.0.1 in /usr/local/lib/python3.10/dist-packages (from matplotlib->mediapipe) (1.1.1)\n",
            "Requirement already satisfied: cycler>=0.10 in /usr/local/lib/python3.10/dist-packages (from matplotlib->mediapipe) (0.12.1)\n",
            "Requirement already satisfied: fonttools>=4.22.0 in /usr/local/lib/python3.10/dist-packages (from matplotlib->mediapipe) (4.43.1)\n",
            "Requirement already satisfied: kiwisolver>=1.0.1 in /usr/local/lib/python3.10/dist-packages (from matplotlib->mediapipe) (1.4.5)\n",
            "Requirement already satisfied: packaging>=20.0 in /usr/local/lib/python3.10/dist-packages (from matplotlib->mediapipe) (23.2)\n",
            "Requirement already satisfied: pillow>=6.2.0 in /usr/local/lib/python3.10/dist-packages (from matplotlib->mediapipe) (9.4.0)\n",
            "Requirement already satisfied: pyparsing>=2.3.1 in /usr/local/lib/python3.10/dist-packages (from matplotlib->mediapipe) (3.1.1)\n",
            "Requirement already satisfied: python-dateutil>=2.7 in /usr/local/lib/python3.10/dist-packages (from matplotlib->mediapipe) (2.8.2)\n",
            "Requirement already satisfied: pycparser in /usr/local/lib/python3.10/dist-packages (from CFFI>=1.0->sounddevice>=0.4.4->mediapipe) (2.21)\n",
            "Requirement already satisfied: six>=1.5 in /usr/local/lib/python3.10/dist-packages (from python-dateutil>=2.7->matplotlib->mediapipe) (1.16.0)\n",
            "Installing collected packages: sounddevice, mediapipe\n",
            "Successfully installed mediapipe-0.10.7 sounddevice-0.4.6\n"
          ]
        }
      ]
    },
    {
      "cell_type": "code",
      "source": [
        "pip install ffmpeg-python"
      ],
      "metadata": {
        "colab": {
          "base_uri": "https://localhost:8080/"
        },
        "id": "iLajSWmF_fK_",
        "outputId": "4ad46900-b602-4793-ee62-b58b68a61247"
      },
      "execution_count": 3,
      "outputs": [
        {
          "output_type": "stream",
          "name": "stdout",
          "text": [
            "Collecting ffmpeg-python\n",
            "  Downloading ffmpeg_python-0.2.0-py3-none-any.whl (25 kB)\n",
            "Requirement already satisfied: future in /usr/local/lib/python3.10/dist-packages (from ffmpeg-python) (0.18.3)\n",
            "Installing collected packages: ffmpeg-python\n",
            "Successfully installed ffmpeg-python-0.2.0\n"
          ]
        }
      ]
    },
    {
      "cell_type": "code",
      "source": [
        "pip install pyttsx3"
      ],
      "metadata": {
        "colab": {
          "base_uri": "https://localhost:8080/"
        },
        "id": "7TZYLtvIwyVX",
        "outputId": "69aa23cc-5779-4e06-a344-80bc6d190230"
      },
      "execution_count": 3,
      "outputs": [
        {
          "output_type": "stream",
          "name": "stdout",
          "text": [
            "Collecting pyttsx3\n",
            "  Downloading pyttsx3-2.90-py3-none-any.whl (39 kB)\n",
            "Installing collected packages: pyttsx3\n",
            "Successfully installed pyttsx3-2.90\n"
          ]
        }
      ]
    },
    {
      "cell_type": "code",
      "source": [
        "pip install gtts"
      ],
      "metadata": {
        "colab": {
          "base_uri": "https://localhost:8080/"
        },
        "id": "x1OmjNP-wr8c",
        "outputId": "beaffc43-10cc-4757-8549-412421146e17"
      },
      "execution_count": 4,
      "outputs": [
        {
          "output_type": "stream",
          "name": "stdout",
          "text": [
            "Collecting gtts\n",
            "  Downloading gTTS-2.4.0-py3-none-any.whl (29 kB)\n",
            "Requirement already satisfied: requests<3,>=2.27 in /usr/local/lib/python3.10/dist-packages (from gtts) (2.31.0)\n",
            "Requirement already satisfied: click<8.2,>=7.1 in /usr/local/lib/python3.10/dist-packages (from gtts) (8.1.7)\n",
            "Requirement already satisfied: charset-normalizer<4,>=2 in /usr/local/lib/python3.10/dist-packages (from requests<3,>=2.27->gtts) (3.3.1)\n",
            "Requirement already satisfied: idna<4,>=2.5 in /usr/local/lib/python3.10/dist-packages (from requests<3,>=2.27->gtts) (3.4)\n",
            "Requirement already satisfied: urllib3<3,>=1.21.1 in /usr/local/lib/python3.10/dist-packages (from requests<3,>=2.27->gtts) (2.0.7)\n",
            "Requirement already satisfied: certifi>=2017.4.17 in /usr/local/lib/python3.10/dist-packages (from requests<3,>=2.27->gtts) (2023.7.22)\n",
            "Installing collected packages: gtts\n",
            "Successfully installed gtts-2.4.0\n"
          ]
        }
      ]
    },
    {
      "cell_type": "code",
      "source": [
        "pip install googletrans==4.0.0rc1"
      ],
      "metadata": {
        "colab": {
          "base_uri": "https://localhost:8080/"
        },
        "id": "kgY2BJGiwY16",
        "outputId": "814094f5-b15e-4791-e494-2ca109c323a0"
      },
      "execution_count": 5,
      "outputs": [
        {
          "output_type": "stream",
          "name": "stdout",
          "text": [
            "Collecting googletrans==4.0.0rc1\n",
            "  Downloading googletrans-4.0.0rc1.tar.gz (20 kB)\n",
            "  Preparing metadata (setup.py) ... \u001b[?25l\u001b[?25hdone\n",
            "Collecting httpx==0.13.3 (from googletrans==4.0.0rc1)\n",
            "  Downloading httpx-0.13.3-py3-none-any.whl (55 kB)\n",
            "\u001b[2K     \u001b[90m━━━━━━━━━━━━━━━━━━━━━━━━━━━━━━━━━━━━━━━━\u001b[0m \u001b[32m55.1/55.1 kB\u001b[0m \u001b[31m2.4 MB/s\u001b[0m eta \u001b[36m0:00:00\u001b[0m\n",
            "\u001b[?25hRequirement already satisfied: certifi in /usr/local/lib/python3.10/dist-packages (from httpx==0.13.3->googletrans==4.0.0rc1) (2023.7.22)\n",
            "Collecting hstspreload (from httpx==0.13.3->googletrans==4.0.0rc1)\n",
            "  Downloading hstspreload-2023.1.1-py3-none-any.whl (1.5 MB)\n",
            "\u001b[2K     \u001b[90m━━━━━━━━━━━━━━━━━━━━━━━━━━━━━━━━━━━━━━━━\u001b[0m \u001b[32m1.5/1.5 MB\u001b[0m \u001b[31m14.9 MB/s\u001b[0m eta \u001b[36m0:00:00\u001b[0m\n",
            "\u001b[?25hRequirement already satisfied: sniffio in /usr/local/lib/python3.10/dist-packages (from httpx==0.13.3->googletrans==4.0.0rc1) (1.3.0)\n",
            "Collecting chardet==3.* (from httpx==0.13.3->googletrans==4.0.0rc1)\n",
            "  Downloading chardet-3.0.4-py2.py3-none-any.whl (133 kB)\n",
            "\u001b[2K     \u001b[90m━━━━━━━━━━━━━━━━━━━━━━━━━━━━━━━━━━━━━━━━\u001b[0m \u001b[32m133.4/133.4 kB\u001b[0m \u001b[31m11.0 MB/s\u001b[0m eta \u001b[36m0:00:00\u001b[0m\n",
            "\u001b[?25hCollecting idna==2.* (from httpx==0.13.3->googletrans==4.0.0rc1)\n",
            "  Downloading idna-2.10-py2.py3-none-any.whl (58 kB)\n",
            "\u001b[2K     \u001b[90m━━━━━━━━━━━━━━━━━━━━━━━━━━━━━━━━━━━━━━━━\u001b[0m \u001b[32m58.8/58.8 kB\u001b[0m \u001b[31m7.7 MB/s\u001b[0m eta \u001b[36m0:00:00\u001b[0m\n",
            "\u001b[?25hCollecting rfc3986<2,>=1.3 (from httpx==0.13.3->googletrans==4.0.0rc1)\n",
            "  Downloading rfc3986-1.5.0-py2.py3-none-any.whl (31 kB)\n",
            "Collecting httpcore==0.9.* (from httpx==0.13.3->googletrans==4.0.0rc1)\n",
            "  Downloading httpcore-0.9.1-py3-none-any.whl (42 kB)\n",
            "\u001b[2K     \u001b[90m━━━━━━━━━━━━━━━━━━━━━━━━━━━━━━━━━━━━━━━━\u001b[0m \u001b[32m42.6/42.6 kB\u001b[0m \u001b[31m5.8 MB/s\u001b[0m eta \u001b[36m0:00:00\u001b[0m\n",
            "\u001b[?25hCollecting h11<0.10,>=0.8 (from httpcore==0.9.*->httpx==0.13.3->googletrans==4.0.0rc1)\n",
            "  Downloading h11-0.9.0-py2.py3-none-any.whl (53 kB)\n",
            "\u001b[2K     \u001b[90m━━━━━━━━━━━━━━━━━━━━━━━━━━━━━━━━━━━━━━━━\u001b[0m \u001b[32m53.6/53.6 kB\u001b[0m \u001b[31m6.7 MB/s\u001b[0m eta \u001b[36m0:00:00\u001b[0m\n",
            "\u001b[?25hCollecting h2==3.* (from httpcore==0.9.*->httpx==0.13.3->googletrans==4.0.0rc1)\n",
            "  Downloading h2-3.2.0-py2.py3-none-any.whl (65 kB)\n",
            "\u001b[2K     \u001b[90m━━━━━━━━━━━━━━━━━━━━━━━━━━━━━━━━━━━━━━━━\u001b[0m \u001b[32m65.0/65.0 kB\u001b[0m \u001b[31m7.4 MB/s\u001b[0m eta \u001b[36m0:00:00\u001b[0m\n",
            "\u001b[?25hCollecting hyperframe<6,>=5.2.0 (from h2==3.*->httpcore==0.9.*->httpx==0.13.3->googletrans==4.0.0rc1)\n",
            "  Downloading hyperframe-5.2.0-py2.py3-none-any.whl (12 kB)\n",
            "Collecting hpack<4,>=3.0 (from h2==3.*->httpcore==0.9.*->httpx==0.13.3->googletrans==4.0.0rc1)\n",
            "  Downloading hpack-3.0.0-py2.py3-none-any.whl (38 kB)\n",
            "Building wheels for collected packages: googletrans\n",
            "  Building wheel for googletrans (setup.py) ... \u001b[?25l\u001b[?25hdone\n",
            "  Created wheel for googletrans: filename=googletrans-4.0.0rc1-py3-none-any.whl size=17396 sha256=38adf4af18e055a8dc4705ebf313784fe0d0a578c3570e19e37a7a2c64653028\n",
            "  Stored in directory: /root/.cache/pip/wheels/c0/59/9f/7372f0cf70160fe61b528532e1a7c8498c4becd6bcffb022de\n",
            "Successfully built googletrans\n",
            "Installing collected packages: rfc3986, hyperframe, hpack, h11, chardet, idna, hstspreload, h2, httpcore, httpx, googletrans\n",
            "  Attempting uninstall: chardet\n",
            "    Found existing installation: chardet 5.2.0\n",
            "    Uninstalling chardet-5.2.0:\n",
            "      Successfully uninstalled chardet-5.2.0\n",
            "  Attempting uninstall: idna\n",
            "    Found existing installation: idna 3.4\n",
            "    Uninstalling idna-3.4:\n",
            "      Successfully uninstalled idna-3.4\n",
            "Successfully installed chardet-3.0.4 googletrans-4.0.0rc1 h11-0.9.0 h2-3.2.0 hpack-3.0.0 hstspreload-2023.1.1 httpcore-0.9.1 httpx-0.13.3 hyperframe-5.2.0 idna-2.10 rfc3986-1.5.0\n"
          ]
        }
      ]
    },
    {
      "cell_type": "code",
      "source": [
        "!apt-get install -y build-essential cmake ninja-build pkg-config"
      ],
      "metadata": {
        "colab": {
          "base_uri": "https://localhost:8080/"
        },
        "id": "gLHdSH0ZvZFn",
        "outputId": "9ada6784-c2ea-4338-8122-4f19283fba16"
      },
      "execution_count": 6,
      "outputs": [
        {
          "output_type": "stream",
          "name": "stdout",
          "text": [
            "Reading package lists... Done\n",
            "Building dependency tree... Done\n",
            "Reading state information... Done\n",
            "build-essential is already the newest version (12.9ubuntu3).\n",
            "pkg-config is already the newest version (0.29.2-1ubuntu3).\n",
            "cmake is already the newest version (3.22.1-1ubuntu1.22.04.1).\n",
            "The following NEW packages will be installed:\n",
            "  ninja-build\n",
            "0 upgraded, 1 newly installed, 0 to remove and 19 not upgraded.\n",
            "Need to get 111 kB of archives.\n",
            "After this operation, 358 kB of additional disk space will be used.\n",
            "Get:1 http://archive.ubuntu.com/ubuntu jammy/universe amd64 ninja-build amd64 1.10.1-1 [111 kB]\n",
            "Fetched 111 kB in 0s (253 kB/s)\n",
            "Selecting previously unselected package ninja-build.\n",
            "(Reading database ... 120874 files and directories currently installed.)\n",
            "Preparing to unpack .../ninja-build_1.10.1-1_amd64.deb ...\n",
            "Unpacking ninja-build (1.10.1-1) ...\n",
            "Setting up ninja-build (1.10.1-1) ...\n",
            "Processing triggers for man-db (2.10.2-1) ...\n"
          ]
        }
      ]
    },
    {
      "cell_type": "code",
      "source": [
        "pip install moviepy"
      ],
      "metadata": {
        "colab": {
          "base_uri": "https://localhost:8080/"
        },
        "id": "03njSYQfl0Gi",
        "outputId": "b3b2ce26-f9ad-4177-8906-5a899ee8da33"
      },
      "execution_count": 7,
      "outputs": [
        {
          "output_type": "stream",
          "name": "stdout",
          "text": [
            "Requirement already satisfied: moviepy in /usr/local/lib/python3.10/dist-packages (1.0.3)\n",
            "Requirement already satisfied: decorator<5.0,>=4.0.2 in /usr/local/lib/python3.10/dist-packages (from moviepy) (4.4.2)\n",
            "Requirement already satisfied: tqdm<5.0,>=4.11.2 in /usr/local/lib/python3.10/dist-packages (from moviepy) (4.66.1)\n",
            "Requirement already satisfied: requests<3.0,>=2.8.1 in /usr/local/lib/python3.10/dist-packages (from moviepy) (2.31.0)\n",
            "Requirement already satisfied: proglog<=1.0.0 in /usr/local/lib/python3.10/dist-packages (from moviepy) (0.1.10)\n",
            "Requirement already satisfied: numpy>=1.17.3 in /usr/local/lib/python3.10/dist-packages (from moviepy) (1.23.5)\n",
            "Requirement already satisfied: imageio<3.0,>=2.5 in /usr/local/lib/python3.10/dist-packages (from moviepy) (2.31.6)\n",
            "Requirement already satisfied: imageio-ffmpeg>=0.2.0 in /usr/local/lib/python3.10/dist-packages (from moviepy) (0.4.9)\n",
            "Requirement already satisfied: pillow<10.1.0,>=8.3.2 in /usr/local/lib/python3.10/dist-packages (from imageio<3.0,>=2.5->moviepy) (9.4.0)\n",
            "Requirement already satisfied: setuptools in /usr/local/lib/python3.10/dist-packages (from imageio-ffmpeg>=0.2.0->moviepy) (67.7.2)\n",
            "Requirement already satisfied: charset-normalizer<4,>=2 in /usr/local/lib/python3.10/dist-packages (from requests<3.0,>=2.8.1->moviepy) (3.3.1)\n",
            "Requirement already satisfied: idna<4,>=2.5 in /usr/local/lib/python3.10/dist-packages (from requests<3.0,>=2.8.1->moviepy) (2.10)\n",
            "Requirement already satisfied: urllib3<3,>=1.21.1 in /usr/local/lib/python3.10/dist-packages (from requests<3.0,>=2.8.1->moviepy) (2.0.7)\n",
            "Requirement already satisfied: certifi>=2017.4.17 in /usr/local/lib/python3.10/dist-packages (from requests<3.0,>=2.8.1->moviepy) (2023.7.22)\n"
          ]
        }
      ]
    },
    {
      "cell_type": "code",
      "source": [
        "!apt-get update"
      ],
      "metadata": {
        "colab": {
          "base_uri": "https://localhost:8080/"
        },
        "id": "cBLcOWDqySSC",
        "outputId": "7b04e4a4-0d3d-4bb3-c2d0-7d1dbd4793de"
      },
      "execution_count": 12,
      "outputs": [
        {
          "output_type": "stream",
          "name": "stdout",
          "text": [
            "\r0% [Working]\r            \rHit:1 http://archive.ubuntu.com/ubuntu jammy InRelease\n",
            "\r0% [Connecting to security.ubuntu.com (91.189.91.83)] [Connected to cloud.r-project.org (18.160.213.\r                                                                                                    \rGet:2 http://archive.ubuntu.com/ubuntu jammy-updates InRelease [119 kB]\n",
            "\r0% [2 InRelease 12.7 kB/119 kB 11%] [Waiting for headers] [Waiting for headers] [Connecting to ppa.l\r                                                                                                    \rGet:3 http://security.ubuntu.com/ubuntu jammy-security InRelease [110 kB]\n",
            "\r0% [2 InRelease 15.6 kB/119 kB 13%] [3 InRelease 14.2 kB/110 kB 13%] [Waiting for headers] [Connecti\r                                                                                                    \rGet:4 https://cloud.r-project.org/bin/linux/ubuntu jammy-cran40/ InRelease [3,626 B]\n",
            "Get:5 https://developer.download.nvidia.com/compute/cuda/repos/ubuntu2204/x86_64  InRelease [1,581 B]\n",
            "Get:6 http://archive.ubuntu.com/ubuntu jammy-backports InRelease [109 kB]\n",
            "Get:7 https://developer.download.nvidia.com/compute/cuda/repos/ubuntu2204/x86_64  Packages [589 kB]\n",
            "Get:8 https://ppa.launchpadcontent.net/c2d4u.team/c2d4u4.0+/ubuntu jammy InRelease [18.1 kB]\n",
            "Get:9 http://security.ubuntu.com/ubuntu jammy-security/universe amd64 Packages [1,012 kB]\n",
            "Get:10 http://archive.ubuntu.com/ubuntu jammy-updates/universe amd64 Packages [1,278 kB]\n",
            "Get:11 http://security.ubuntu.com/ubuntu jammy-security/main amd64 Packages [1,185 kB]\n",
            "Get:12 http://security.ubuntu.com/ubuntu jammy-security/restricted amd64 Packages [1,389 kB]\n",
            "Get:13 http://archive.ubuntu.com/ubuntu jammy-updates/main amd64 Packages [1,455 kB]\n",
            "Get:14 http://archive.ubuntu.com/ubuntu jammy-updates/restricted amd64 Packages [1,415 kB]\n",
            "Get:15 http://archive.ubuntu.com/ubuntu jammy-backports/universe amd64 Packages [32.6 kB]\n",
            "Hit:16 https://ppa.launchpadcontent.net/deadsnakes/ppa/ubuntu jammy InRelease\n",
            "Get:17 https://ppa.launchpadcontent.net/graphics-drivers/ppa/ubuntu jammy InRelease [24.3 kB]\n",
            "Hit:18 https://ppa.launchpadcontent.net/ubuntugis/ppa/ubuntu jammy InRelease\n",
            "Get:19 https://ppa.launchpadcontent.net/c2d4u.team/c2d4u4.0+/ubuntu jammy/main Sources [2,231 kB]\n",
            "Get:20 https://ppa.launchpadcontent.net/c2d4u.team/c2d4u4.0+/ubuntu jammy/main amd64 Packages [1,145 kB]\n",
            "Get:21 https://ppa.launchpadcontent.net/graphics-drivers/ppa/ubuntu jammy/main amd64 Packages [40.4 kB]\n",
            "Fetched 12.2 MB in 5s (2,224 kB/s)\n",
            "Reading package lists... Done\n"
          ]
        }
      ]
    },
    {
      "cell_type": "code",
      "source": [
        "!apt-get install -y libsndfile-dev librubberband-dev"
      ],
      "metadata": {
        "colab": {
          "base_uri": "https://localhost:8080/"
        },
        "id": "enNvX2VIzb69",
        "outputId": "56ce47f0-1509-4b46-8dec-fb1bc377f453"
      },
      "execution_count": 8,
      "outputs": [
        {
          "output_type": "stream",
          "name": "stdout",
          "text": [
            "Reading package lists... Done\n",
            "Building dependency tree... Done\n",
            "Reading state information... Done\n",
            "Note, selecting 'libsndfile1-dev' instead of 'libsndfile-dev'\n",
            "libsndfile1-dev is already the newest version (1.0.31-2build1).\n",
            "The following NEW packages will be installed:\n",
            "  librubberband-dev libsamplerate0-dev\n",
            "0 upgraded, 2 newly installed, 0 to remove and 19 not upgraded.\n",
            "Need to get 189 kB of archives.\n",
            "After this operation, 743 kB of additional disk space will be used.\n",
            "Get:1 http://archive.ubuntu.com/ubuntu jammy/main amd64 libsamplerate0-dev amd64 0.2.2-1build1 [61.5 kB]\n",
            "Get:2 http://archive.ubuntu.com/ubuntu jammy/universe amd64 librubberband-dev amd64 2.0.0-2 [127 kB]\n",
            "Fetched 189 kB in 1s (337 kB/s)\n",
            "Selecting previously unselected package libsamplerate0-dev:amd64.\n",
            "(Reading database ... 120886 files and directories currently installed.)\n",
            "Preparing to unpack .../libsamplerate0-dev_0.2.2-1build1_amd64.deb ...\n",
            "Unpacking libsamplerate0-dev:amd64 (0.2.2-1build1) ...\n",
            "Selecting previously unselected package librubberband-dev:amd64.\n",
            "Preparing to unpack .../librubberband-dev_2.0.0-2_amd64.deb ...\n",
            "Unpacking librubberband-dev:amd64 (2.0.0-2) ...\n",
            "Setting up libsamplerate0-dev:amd64 (0.2.2-1build1) ...\n",
            "Setting up librubberband-dev:amd64 (2.0.0-2) ...\n"
          ]
        }
      ]
    },
    {
      "cell_type": "code",
      "source": [
        "pip install rubberband"
      ],
      "metadata": {
        "colab": {
          "base_uri": "https://localhost:8080/"
        },
        "id": "I-AgIYSUzrfl",
        "outputId": "f638f789-2af9-49da-e896-409fa27d6515"
      },
      "execution_count": 14,
      "outputs": [
        {
          "output_type": "stream",
          "name": "stdout",
          "text": [
            "Collecting rubberband\n",
            "  Downloading rubberband-1.0.2.tar.gz (99 kB)\n",
            "\u001b[?25l     \u001b[90m━━━━━━━━━━━━━━━━━━━━━━━━━━━━━━━━━━━━━━━━\u001b[0m \u001b[32m0.0/99.4 kB\u001b[0m \u001b[31m?\u001b[0m eta \u001b[36m-:--:--\u001b[0m\r\u001b[2K     \u001b[91m━━━━━━━━━━━━━━━━\u001b[0m\u001b[90m╺\u001b[0m\u001b[90m━━━━━━━━━━━━━━━━━━━━━━━\u001b[0m \u001b[32m41.0/99.4 kB\u001b[0m \u001b[31m1.2 MB/s\u001b[0m eta \u001b[36m0:00:01\u001b[0m\r\u001b[2K     \u001b[90m━━━━━━━━━━━━━━━━━━━━━━━━━━━━━━━━━━━━━━━━\u001b[0m \u001b[32m99.4/99.4 kB\u001b[0m \u001b[31m2.0 MB/s\u001b[0m eta \u001b[36m0:00:00\u001b[0m\n",
            "\u001b[?25h  Preparing metadata (setup.py) ... \u001b[?25l\u001b[?25hdone\n",
            "Building wheels for collected packages: rubberband\n",
            "  \u001b[1;31merror\u001b[0m: \u001b[1msubprocess-exited-with-error\u001b[0m\n",
            "  \n",
            "  \u001b[31m×\u001b[0m \u001b[32mpython setup.py bdist_wheel\u001b[0m did not run successfully.\n",
            "  \u001b[31m│\u001b[0m exit code: \u001b[1;36m1\u001b[0m\n",
            "  \u001b[31m╰─>\u001b[0m See above for output.\n",
            "  \n",
            "  \u001b[1;35mnote\u001b[0m: This error originates from a subprocess, and is likely not a problem with pip.\n",
            "  Building wheel for rubberband (setup.py) ... \u001b[?25lerror\n",
            "\u001b[31m  ERROR: Failed building wheel for rubberband\u001b[0m\u001b[31m\n",
            "\u001b[0m\u001b[?25h  Running setup.py clean for rubberband\n",
            "Failed to build rubberband\n",
            "\u001b[31mERROR: Could not build wheels for rubberband, which is required to install pyproject.toml-based projects\u001b[0m\u001b[31m\n",
            "\u001b[0m"
          ]
        }
      ]
    },
    {
      "cell_type": "code",
      "source": [
        "pip install gdown"
      ],
      "metadata": {
        "colab": {
          "base_uri": "https://localhost:8080/"
        },
        "id": "5lW-30NO0kCr",
        "outputId": "19129182-550a-4439-9458-72cdd3e26dfd"
      },
      "execution_count": null,
      "outputs": [
        {
          "output_type": "stream",
          "name": "stdout",
          "text": [
            "Requirement already satisfied: gdown in /usr/local/lib/python3.10/dist-packages (4.6.6)\n",
            "Requirement already satisfied: filelock in /usr/local/lib/python3.10/dist-packages (from gdown) (3.12.4)\n",
            "Requirement already satisfied: requests[socks] in /usr/local/lib/python3.10/dist-packages (from gdown) (2.31.0)\n",
            "Requirement already satisfied: six in /usr/local/lib/python3.10/dist-packages (from gdown) (1.16.0)\n",
            "Requirement already satisfied: tqdm in /usr/local/lib/python3.10/dist-packages (from gdown) (4.66.1)\n",
            "Requirement already satisfied: beautifulsoup4 in /usr/local/lib/python3.10/dist-packages (from gdown) (4.11.2)\n",
            "Requirement already satisfied: soupsieve>1.2 in /usr/local/lib/python3.10/dist-packages (from beautifulsoup4->gdown) (2.5)\n",
            "Requirement already satisfied: charset-normalizer<4,>=2 in /usr/local/lib/python3.10/dist-packages (from requests[socks]->gdown) (3.3.1)\n",
            "Requirement already satisfied: idna<4,>=2.5 in /usr/local/lib/python3.10/dist-packages (from requests[socks]->gdown) (2.10)\n",
            "Requirement already satisfied: urllib3<3,>=1.21.1 in /usr/local/lib/python3.10/dist-packages (from requests[socks]->gdown) (2.0.7)\n",
            "Requirement already satisfied: certifi>=2017.4.17 in /usr/local/lib/python3.10/dist-packages (from requests[socks]->gdown) (2023.7.22)\n",
            "Requirement already satisfied: PySocks!=1.5.7,>=1.5.6 in /usr/local/lib/python3.10/dist-packages (from requests[socks]->gdown) (1.7.1)\n"
          ]
        }
      ]
    },
    {
      "cell_type": "code",
      "source": [
        "!gdown https://github.com/RubberBand/rubberband/archive/refs/heads/main.zip"
      ],
      "metadata": {
        "colab": {
          "base_uri": "https://localhost:8080/"
        },
        "id": "Qe6MAktu0sLc",
        "outputId": "0557e11a-31d2-4f8c-e646-7bc5e6e1e298"
      },
      "execution_count": null,
      "outputs": [
        {
          "output_type": "stream",
          "name": "stdout",
          "text": [
            "Downloading...\n",
            "From: https://github.com/RubberBand/rubberband/archive/refs/heads/main.zip\n",
            "To: /content/main.zip\n",
            "\r  0% 0.00/29.0 [00:00<?, ?B/s]\r 31% 9.00/29.0 [00:00<00:00, 32.7kB/s]\n"
          ]
        }
      ]
    },
    {
      "cell_type": "code",
      "source": [
        "!unzip main.zip"
      ],
      "metadata": {
        "colab": {
          "base_uri": "https://localhost:8080/"
        },
        "id": "iB9qW-5T1FrU",
        "outputId": "97684c48-836a-45e6-969b-28dec29768ca"
      },
      "execution_count": null,
      "outputs": [
        {
          "output_type": "stream",
          "name": "stdout",
          "text": [
            "Archive:  main.zip\n",
            "  End-of-central-directory signature not found.  Either this file is not\n",
            "  a zipfile, or it constitutes one disk of a multi-part archive.  In the\n",
            "  latter case the central directory and zipfile comment will be found on\n",
            "  the last disk(s) of this archive.\n",
            "unzip:  cannot find zipfile directory in one of main.zip or\n",
            "        main.zip.zip, and cannot find main.zip.ZIP, period.\n"
          ]
        }
      ]
    },
    {
      "cell_type": "code",
      "source": [
        "!unzip /content/drive/MyDrive/input/rubberband-1.0.2.zip"
      ],
      "metadata": {
        "colab": {
          "base_uri": "https://localhost:8080/"
        },
        "id": "4NXWPH731MhX",
        "outputId": "5944e31a-f9d2-4c8f-80e5-cf4ffab3ccf0"
      },
      "execution_count": 9,
      "outputs": [
        {
          "output_type": "stream",
          "name": "stdout",
          "text": [
            "Archive:  /content/drive/MyDrive/input/rubberband-1.0.2.zip\n",
            "   creating: rubberband-1.0.2/\n",
            "   creating: rubberband-1.0.2/ext/\n",
            "  inflating: rubberband-1.0.2/ext/deepClean.py  \n",
            "  inflating: rubberband-1.0.2/ext/__init__.py  \n",
            "  inflating: rubberband-1.0.2/LICENSE.rst  \n",
            "  inflating: rubberband-1.0.2/MANIFEST.in  \n",
            "  inflating: rubberband-1.0.2/PKG-INFO  \n",
            "  inflating: rubberband-1.0.2/README.rst  \n",
            "   creating: rubberband-1.0.2/rubberband.egg-info/\n",
            "  inflating: rubberband-1.0.2/rubberband.egg-info/dependency_links.txt  \n",
            "  inflating: rubberband-1.0.2/rubberband.egg-info/entry_points.txt  \n",
            "  inflating: rubberband-1.0.2/rubberband.egg-info/PKG-INFO  \n",
            "  inflating: rubberband-1.0.2/rubberband.egg-info/SOURCES.txt  \n",
            "  inflating: rubberband-1.0.2/rubberband.egg-info/top_level.txt  \n",
            "  inflating: rubberband-1.0.2/rubberband.egg-info/zip-safe  \n",
            "  inflating: rubberband-1.0.2/setup.cfg  \n",
            "  inflating: rubberband-1.0.2/setup.py  \n",
            "   creating: rubberband-1.0.2/src/\n",
            "  inflating: rubberband-1.0.2/src/Debug.cpp  \n",
            "  inflating: rubberband-1.0.2/src/Debug.hpp  \n",
            "  inflating: rubberband-1.0.2/src/numpy.cpp  \n",
            "  inflating: rubberband-1.0.2/src/numpy.hpp  \n",
            "  inflating: rubberband-1.0.2/src/rubber.cpp  \n",
            "  inflating: rubberband-1.0.2/src/stretch.cpp  \n",
            "  inflating: rubberband-1.0.2/src/stretch.hpp  \n",
            "   creating: rubberband-1.0.2/tests/\n",
            "  inflating: rubberband-1.0.2/tests/slugs.wav  \n",
            "  inflating: rubberband-1.0.2/tests/test.py  \n"
          ]
        }
      ]
    },
    {
      "cell_type": "code",
      "source": [
        "cd rubberband-1.0.2"
      ],
      "metadata": {
        "colab": {
          "base_uri": "https://localhost:8080/"
        },
        "id": "mPHys4Jl9drX",
        "outputId": "ad593403-0302-4aeb-ea07-fed1eac80fff"
      },
      "execution_count": 10,
      "outputs": [
        {
          "output_type": "stream",
          "name": "stdout",
          "text": [
            "/content/rubberband-1.0.2\n"
          ]
        }
      ]
    },
    {
      "cell_type": "code",
      "source": [
        "pip install setup.py bdist_wheel --universal"
      ],
      "metadata": {
        "colab": {
          "base_uri": "https://localhost:8080/"
        },
        "id": "7dUntkB292d8",
        "outputId": "a203037e-6c37-4561-a64d-4f95e7e1a155"
      },
      "execution_count": 9,
      "outputs": [
        {
          "output_type": "stream",
          "name": "stdout",
          "text": [
            "\n",
            "Usage:   \n",
            "  pip3 install [options] <requirement specifier> [package-index-options] ...\n",
            "  pip3 install [options] -r <requirements file> [package-index-options] ...\n",
            "  pip3 install [options] [-e] <vcs project url> ...\n",
            "  pip3 install [options] [-e] <local project path> ...\n",
            "  pip3 install [options] <archive url/path> ...\n",
            "\n",
            "no such option: --universal\n"
          ]
        }
      ]
    },
    {
      "cell_type": "code",
      "source": [
        "pip install ."
      ],
      "metadata": {
        "colab": {
          "base_uri": "https://localhost:8080/"
        },
        "id": "iQccSsV8-CBd",
        "outputId": "4d1662d8-db8d-4ab5-ba30-5c5c7931cfa9"
      },
      "execution_count": 11,
      "outputs": [
        {
          "output_type": "stream",
          "name": "stdout",
          "text": [
            "Processing /content/rubberband-1.0.2\n",
            "  Preparing metadata (setup.py) ... \u001b[?25l\u001b[?25hdone\n",
            "Building wheels for collected packages: rubberband\n",
            "  Building wheel for rubberband (setup.py) ... \u001b[?25l\u001b[?25hdone\n",
            "  Created wheel for rubberband: filename=rubberband-1.0.2-cp310-cp310-linux_x86_64.whl size=346232 sha256=0f255f7e1ac1d35c04cc2f499e0107ff718dcb91178cc6ac322c843c2ccff959\n",
            "  Stored in directory: /root/.cache/pip/wheels/e3/94/16/545c0fe0880d74d38ea5803d030e70feeea935c8c9bd59ef75\n",
            "Successfully built rubberband\n",
            "Installing collected packages: rubberband\n",
            "Successfully installed rubberband-1.0.2\n"
          ]
        }
      ]
    }
  ]
}